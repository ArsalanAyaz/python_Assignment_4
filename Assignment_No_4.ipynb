{
 "cells": [
  {
   "cell_type": "code",
   "execution_count": null,
   "metadata": {},
   "outputs": [],
   "source": [
    "#1 Write a program to print all natural numbers from 1 to n. - using while loop\n",
    "\n",
    "n=int(input(\"enter the value of n :\"))\n",
    "\n",
    "i=1\n",
    "while i<=n:\n",
    "    print(i)\n",
    "    i+=1"
   ]
  },
  {
   "cell_type": "code",
   "execution_count": null,
   "metadata": {},
   "outputs": [],
   "source": [
    "#2 Write a js program to print all natural numbers in reverse (from n to 1).\n",
    "# - using while loop\n",
    "\n",
    "n=int(input(\"enter the value of n :\"))\n",
    "\n",
    "i=n\n",
    "while i >= 1:\n",
    "    print(i)\n",
    "    i-=1"
   ]
  },
  {
   "cell_type": "code",
   "execution_count": null,
   "metadata": {},
   "outputs": [],
   "source": [
    "#3 Write a program to print all alphabets from a to z. \n",
    "# - using while loop\n",
    "\n",
    "alphabets = ['a', 'b', 'c', 'd', 'e', 'f', 'g', 'h', 'i', 'j', 'k',\n",
    "             'l', 'm', 'n', 'o', 'p', 'q', 'r', 's', 't', 'u', 'v',\n",
    "             'w', 'x', 'y', 'z']\n",
    "\n",
    "i = 0\n",
    "\n",
    "while i < len(alphabets):\n",
    "    print(alphabets[i], end=\" \")\n",
    "    i += 1\n",
    "\n",
    "    "
   ]
  },
  {
   "cell_type": "code",
   "execution_count": null,
   "metadata": {},
   "outputs": [],
   "source": [
    "#4 Write a js program to print all even numbers between 1 to 100. \n",
    "# - using while loop\n",
    "\n",
    "even_numbers = range(2, 101)\n",
    "\n",
    "i = 0\n",
    "while i < len(even_numbers):\n",
    "    if even_numbers[i] % 2 == 0:\n",
    "        print(even_numbers[i], end=', ')\n",
    "    i += 1\n"
   ]
  },
  {
   "cell_type": "code",
   "execution_count": null,
   "metadata": {},
   "outputs": [],
   "source": [
    "#5 Write a program to print all odd number between 1 to 100\n",
    "\n",
    "odd_numbers=range(1,101)\n",
    "\n",
    "i=0\n",
    "while i < len(odd_numbers):\n",
    "    if odd_numbers[i] % 2 != 0:\n",
    "        print(odd_numbers[i], end= ',')\n",
    "    i+=1    "
   ]
  },
  {
   "cell_type": "code",
   "execution_count": null,
   "metadata": {},
   "outputs": [],
   "source": [
    "#6 Write a program to find sum of all natural numbers between 1 to n\n",
    "\n",
    "n = int(input(\"Enter the value of n: \"))\n",
    "sum_of_numbers = 0\n",
    "i = 1\n",
    "\n",
    "while i <= n:\n",
    "    sum_of_numbers += i\n",
    "    i += 1\n",
    "\n",
    "print(f\"The sum of natural numbers from 1 to {n} is: {sum_of_numbers}\")\n"
   ]
  },
  {
   "cell_type": "code",
   "execution_count": null,
   "metadata": {},
   "outputs": [],
   "source": [
    "#7 Write a program to find sum of all even numbers between 1 to n.\n",
    "\n",
    "n= int(input(\"enter the n number \"))\n",
    "even_numbers_sum= 0\n",
    "even_number_list=[]\n",
    "i=0\n",
    "while i<=n:\n",
    "    if i % 2 == 0:\n",
    "        even_numbers_sum += i\n",
    "        even_number_list.append(i)  \n",
    "    i += 1  \n",
    "    \n",
    "print(f\"The sum of all even numbers '{even_number_list}' between 1 and {n} is = {even_numbers_sum}\")      "
   ]
  },
  {
   "cell_type": "code",
   "execution_count": null,
   "metadata": {},
   "outputs": [],
   "source": [
    "#8 Write a program to find sum of all odd numbers between 1 to n.\n",
    "\n",
    "n= int(input(\"enter the n number \"))\n",
    "odd_numbers_sum= 0\n",
    "odd_number_list=[]\n",
    "i=0\n",
    "while i<=n:\n",
    "    if i % 2 != 0:\n",
    "        odd_numbers_sum += i\n",
    "        odd_number_list.append(i)  \n",
    "    i += 1  \n",
    "    \n",
    "print(f\"The sum of all even numbers '{odd_number_list}' between 1 and {n} is = {odd_numbers_sum}\")      "
   ]
  },
  {
   "cell_type": "code",
   "execution_count": null,
   "metadata": {},
   "outputs": [],
   "source": [
    "#9 Write a program to print multiplication table of any number.\n",
    "\n",
    "table=int(input(\"enter table numble\"))\n",
    "length=int(input(\"\"\"enter the length untill to you want \n",
    "                 to run the table like upto 10,20 or 30 :\"\"\"))\n",
    "\n",
    "for i in range(1,length+1):\n",
    "    result = i*table\n",
    "    print(f\"{table} X {i} = \",result)"
   ]
  },
  {
   "cell_type": "code",
   "execution_count": null,
   "metadata": {},
   "outputs": [],
   "source": [
    "#10 Write a program to count number of digits in a number.\n",
    "\n",
    "number=int(input(\"enter the number:\"))\n",
    "count=0\n",
    "while number > 0 :\n",
    "    number //= 10\n",
    "    count+=1"
   ]
  },
  {
   "cell_type": "code",
   "execution_count": null,
   "metadata": {},
   "outputs": [],
   "source": [
    "#11 Write a program to find first and last digit of a number. \n",
    "\n",
    "number = int(input(\"Enter a number which should be greater than 10: \"))\n",
    "\n",
    "last_digit= number % 10\n",
    "\n",
    "while number >= 10:\n",
    "    number //= 10\n",
    "    \n",
    "first_digit=number    \n",
    "\n",
    "\n",
    "\n",
    "print(f\"The first digit of the number is: {first_digit}\")\n",
    "print(f\"The last digit of the number is: {last_digit}\")\n"
   ]
  },
  {
   "cell_type": "code",
   "execution_count": null,
   "metadata": {},
   "outputs": [],
   "source": [
    "#12 Write a program to find sum of first and last digit of a number.\n",
    "\n",
    "number = int(input(\"Enter a number which should be greater than 10: \"))\n",
    "\n",
    "last_digit= number % 10\n",
    "\n",
    "while number >= 10:\n",
    "    number //= 10\n",
    "    \n",
    "first_digit=number    \n",
    "sum= first_digit + last_digit\n",
    "\n",
    "\n",
    "print(f\"The first digit of the number is: {first_digit}\")\n",
    "print(f\"The last digit of the number is: {last_digit}\")\n",
    "print(f\"The sum of {first_digit} and {last_digit} = {sum}\")"
   ]
  },
  {
   "cell_type": "code",
   "execution_count": null,
   "metadata": {},
   "outputs": [],
   "source": [
    "#14 Write a program to calculate sum of digits of a number\n",
    "\n",
    "number = int(input(\"Enter a number: \"))\n",
    "original_number = number  \n",
    "sum_of_digits = 0\n",
    "\n",
    "while number > 0:\n",
    "    digit = number % 10  \n",
    "    sum_of_digits += digit  \n",
    "    number //= 10  \n",
    "\n",
    "print(f\"The original number: {original_number}\")\n",
    "print(f\"The sum of digits: {sum_of_digits}\")\n"
   ]
  },
  {
   "cell_type": "code",
   "execution_count": null,
   "metadata": {},
   "outputs": [],
   "source": [
    "#15 Write a program to calculate product of digits of a number\n",
    "\n",
    "number = int(input(\"Enter a number: \"))\n",
    "original_number = number  \n",
    "product_of_digits = 1\n",
    "\n",
    "while number > 0:\n",
    "    digit = number % 10  \n",
    "    product_of_digits *= digit  \n",
    "    number //= 10  \n",
    "\n",
    "print(f\"The original number: {original_number}\")\n",
    "print(f\"The product of digits: {product_of_digits}\")"
   ]
  },
  {
   "cell_type": "code",
   "execution_count": null,
   "metadata": {},
   "outputs": [],
   "source": [
    "#16 Write a program to enter a number and print its reverse\n",
    "\n",
    "number = int(input(\"enter the number :\"))\n",
    "\n",
    "reversed=0\n",
    "\n",
    "while number > 0 :\n",
    "    digit = number % 10\n",
    "    reversed = reversed * 10 + digit\n",
    "    number //= 10\n",
    "    \n",
    "print(f\"The reversed number is = {reversed}\")    "
   ]
  },
  {
   "cell_type": "code",
   "execution_count": null,
   "metadata": {},
   "outputs": [],
   "source": [
    "#17 Write a program to check whether a number is palindrome or not.\n",
    "\n",
    "\n",
    "number=int(input(\"enter the number\"))\n",
    "   \n",
    "number_str = str(number)\n",
    "    \n",
    "   \n",
    "if number_str == number_str[::-1]:\n",
    "    print(f\"{number} is palindrome\")\n",
    "else:\n",
    "    print(f\"{number} is not palindrome\")\n",
    "\n",
    "\n",
    "\n"
   ]
  },
  {
   "cell_type": "code",
   "execution_count": null,
   "metadata": {},
   "outputs": [],
   "source": [
    "#18 Write a program to find frequency of each digit in a given integer.\n",
    "\n",
    "number = int(input(\"Enter the number: \"))\n",
    "\n",
    "\n",
    "frequency = [0] * 10\n",
    "\n",
    "while number > 0:\n",
    "    digit = number % 10  \n",
    "    frequency[digit] += 1  \n",
    "    number //= 10  \n",
    "\n",
    "print(\"Frequency of each digit in the number:\")\n",
    "for digit in range(10):\n",
    "    if frequency[digit] > 0:\n",
    "        print(f\"Digit {digit}: {frequency[digit]}\")\n"
   ]
  },
  {
   "cell_type": "code",
   "execution_count": null,
   "metadata": {},
   "outputs": [],
   "source": [
    "#19 Write a program to enter a number and print it in words.\n",
    "\n",
    "# Define lists of words for numbers\n",
    "ones = [\"\", \"One\", \"Two\", \"Three\", \"Four\", \"Five\", \"Six\", \"Seven\", \"Eight\", \"Nine\"]\n",
    "teens = [\"\", \"Eleven\", \"Twelve\", \"Thirteen\", \"Fourteen\", \"Fifteen\", \"Sixteen\", \"Seventeen\", \"Eighteen\", \"Nineteen\"]\n",
    "tens = [\"\", \"Ten\", \"Twenty\", \"Thirty\", \"Forty\", \"Fifty\", \"Sixty\", \"Seventy\", \"Eighty\", \"Ninety\"]\n",
    "thousands = [\"\", \"Thousand\", \"Million\", \"Billion\", \"Trillion\"]\n",
    "\n",
    "# Function to convert numbers less than 1000 into words\n",
    "def less_than_thousand(num):\n",
    "    if num == 0:\n",
    "        return \"\"\n",
    "    elif num < 10:\n",
    "        return ones[num]\n",
    "    elif num < 20:\n",
    "        return teens[num - 10]\n",
    "    elif num < 100:\n",
    "        return tens[num // 10] + \" \" + ones[num % 10]\n",
    "    elif num < 999 :\n",
    "        return ones[num // 100] + \" Hundred \" + less_than_thousand(num % 100)\n",
    "    else:\n",
    "        print(\"your number is greater than or equal to 1000\")\n",
    "\n",
    "\n",
    "\n",
    "# Input number from the user\n",
    "number = int(input(\"Enter a number (less than one thousand): \"))\n",
    "print(\"In words:\", less_than_thousand(number))\n",
    "\n",
    "\n"
   ]
  },
  {
   "cell_type": "code",
   "execution_count": null,
   "metadata": {},
   "outputs": [],
   "source": [
    "#20 Write a program to print all ASCII character with their values.\n",
    "\n",
    "\n",
    "for i in range(128):\n",
    "    \n",
    "    print(f\"ASCII Value: {i}, Character: {chr(i)}\")\n"
   ]
  },
  {
   "cell_type": "code",
   "execution_count": null,
   "metadata": {},
   "outputs": [],
   "source": [
    "#21 Write a program to find power of a number using for loop\n",
    "\n",
    "num1 = int(input(\"enter the base number :\"))\n",
    "num2 = int(input(\"enter the power number :\"))\n",
    "\n",
    "def power_find (base,exponent):\n",
    "    \n",
    "    result=1\n",
    "    for _ in range(exponent):\n",
    "        \n",
    "        result *= base\n",
    "    return result\n",
    "        \n",
    "print(f\"The result = \",power_find(num1,num2))    \n",
    "    "
   ]
  },
  {
   "cell_type": "code",
   "execution_count": null,
   "metadata": {},
   "outputs": [],
   "source": [
    "#23 Write a program to calculate factorial of a number.\n",
    "\n",
    "number =int(input(\"enter the number :\"))\n",
    "\n",
    "result=1\n",
    "for i in range(1,number+1):\n",
    "    \n",
    "    result *= i\n",
    "    i += 1\n",
    "    \n",
    "print(f\"The factorial of {number} = {result}\") \n",
    "\n",
    "\n",
    "\n"
   ]
  },
  {
   "cell_type": "code",
   "execution_count": 13,
   "metadata": {},
   "outputs": [
    {
     "name": "stdout",
     "output_type": "stream",
     "text": [
      "The HCF of 9 and 10 is: 1\n"
     ]
    }
   ],
   "source": [
    "#24 Write a program to find HCF (GCD) of two numbers\n",
    "num1 = int(input(\"Enter the first number: \"))\n",
    "num2 = int(input(\"Enter the second number: \"))\n",
    "    \n",
    "def find_hcf(num1, num2):\n",
    "    while num2:\n",
    "        num1, num2 = num2, num1 % num2\n",
    "    return num1\n",
    "\n",
    "\n",
    "hcf = find_hcf(num1, num2)\n",
    "print(f\"The HCF of {num1} and {num2} is: {hcf}\")\n"
   ]
  },
  {
   "cell_type": "code",
   "execution_count": 8,
   "metadata": {},
   "outputs": [
    {
     "name": "stdout",
     "output_type": "stream",
     "text": [
      "18\n"
     ]
    }
   ],
   "source": [
    "a = 18 % 36\n",
    "print(a)"
   ]
  }
 ],
 "metadata": {
  "kernelspec": {
   "display_name": "Python 3",
   "language": "python",
   "name": "python3"
  },
  "language_info": {
   "codemirror_mode": {
    "name": "ipython",
    "version": 3
   },
   "file_extension": ".py",
   "mimetype": "text/x-python",
   "name": "python",
   "nbconvert_exporter": "python",
   "pygments_lexer": "ipython3",
   "version": "3.12.1"
  }
 },
 "nbformat": 4,
 "nbformat_minor": 2
}
